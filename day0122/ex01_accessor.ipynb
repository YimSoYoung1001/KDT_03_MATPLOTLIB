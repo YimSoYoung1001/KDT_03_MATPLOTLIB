{
 "cells": [
  {
   "cell_type": "markdown",
   "id": "f80cc27b-9365-469b-9695-81f2eb873666",
   "metadata": {},
   "source": [
    "## [ 접근자 Accessor ]\n",
    "- Series/DataFrame의 데이터가 날짜시간(datetime), 문자열(object), 범주형(category) 등의 경우 데이터 타입과 관련된 정용의 함수들을 사용할 수 있도록 해주는 속성\n",
    "- Series.str.문자열처리관련함수명( )   \n",
    "- Series.dt.날짜시간처리관련속성명  "
   ]
  },
  {
   "cell_type": "markdown",
   "id": "4a6feb84-6261-47d0-ab8d-085efbc2764e",
   "metadata": {},
   "source": [
    "(1) 모듈 로딩"
   ]
  },
  {
   "cell_type": "code",
   "execution_count": 332,
   "id": "98baeb6a-c265-4a3c-b9ac-91064f4299d8",
   "metadata": {},
   "outputs": [],
   "source": [
    "import pandas as pd"
   ]
  },
  {
   "cell_type": "markdown",
   "id": "82930875-74ef-4516-ba24-9019009d72af",
   "metadata": {},
   "source": [
    "(2) 데이터 준비"
   ]
  },
  {
   "cell_type": "code",
   "execution_count": 333,
   "id": "d6451709-dc70-4146-bc7f-b91cf759199d",
   "metadata": {},
   "outputs": [],
   "source": [
    "datas = {'name':['홍 길동', '이 나영', '마 징가', '베 토벤'], \n",
    "         'age':[10, 21, 73, 89], \n",
    "         'reg_date': ['2000/01/23', '2020/11/08', '1999/5/4', '1987/12/24']}\n",
    "\n",
    "datas2 = [['홍 길동', '이 나영', '마 징가', '베 토벤'], \n",
    "         [10, 21, 73, 89], \n",
    "         ['2000/01/23', '2020/11/08', '1999/5/4', '1987/12/24']]"
   ]
  },
  {
   "cell_type": "markdown",
   "id": "f019aee6-416f-4005-9978-eede8ed79443",
   "metadata": {},
   "source": [
    "(3) 데이터 저장"
   ]
  },
  {
   "cell_type": "code",
   "execution_count": 334,
   "id": "d7d3f6de-9221-4297-baa3-d16d84030b38",
   "metadata": {},
   "outputs": [
    {
     "data": {
      "text/html": [
       "<div>\n",
       "<style scoped>\n",
       "    .dataframe tbody tr th:only-of-type {\n",
       "        vertical-align: middle;\n",
       "    }\n",
       "\n",
       "    .dataframe tbody tr th {\n",
       "        vertical-align: top;\n",
       "    }\n",
       "\n",
       "    .dataframe thead th {\n",
       "        text-align: right;\n",
       "    }\n",
       "</style>\n",
       "<table border=\"1\" class=\"dataframe\">\n",
       "  <thead>\n",
       "    <tr style=\"text-align: right;\">\n",
       "      <th></th>\n",
       "      <th>name</th>\n",
       "      <th>age</th>\n",
       "      <th>reg_date</th>\n",
       "    </tr>\n",
       "  </thead>\n",
       "  <tbody>\n",
       "    <tr>\n",
       "      <th>0</th>\n",
       "      <td>홍 길동</td>\n",
       "      <td>10</td>\n",
       "      <td>2000/01/23</td>\n",
       "    </tr>\n",
       "    <tr>\n",
       "      <th>1</th>\n",
       "      <td>이 나영</td>\n",
       "      <td>21</td>\n",
       "      <td>2020/11/08</td>\n",
       "    </tr>\n",
       "    <tr>\n",
       "      <th>2</th>\n",
       "      <td>마 징가</td>\n",
       "      <td>73</td>\n",
       "      <td>1999/5/4</td>\n",
       "    </tr>\n",
       "    <tr>\n",
       "      <th>3</th>\n",
       "      <td>베 토벤</td>\n",
       "      <td>89</td>\n",
       "      <td>1987/12/24</td>\n",
       "    </tr>\n",
       "  </tbody>\n",
       "</table>\n",
       "</div>"
      ],
      "text/plain": [
       "   name  age    reg_date\n",
       "0  홍 길동   10  2000/01/23\n",
       "1  이 나영   21  2020/11/08\n",
       "2  마 징가   73    1999/5/4\n",
       "3  베 토벤   89  1987/12/24"
      ]
     },
     "execution_count": 334,
     "metadata": {},
     "output_type": "execute_result"
    }
   ],
   "source": [
    "# Dict ==> DataFrame\n",
    "df1 = pd.DataFrame(datas)\n",
    "df1\n",
    "#키가 컬럼명이 됨"
   ]
  },
  {
   "cell_type": "code",
   "execution_count": 335,
   "id": "e478b0af-7421-4975-9c60-1f179e286397",
   "metadata": {},
   "outputs": [
    {
     "data": {
      "text/html": [
       "<div>\n",
       "<style scoped>\n",
       "    .dataframe tbody tr th:only-of-type {\n",
       "        vertical-align: middle;\n",
       "    }\n",
       "\n",
       "    .dataframe tbody tr th {\n",
       "        vertical-align: top;\n",
       "    }\n",
       "\n",
       "    .dataframe thead th {\n",
       "        text-align: right;\n",
       "    }\n",
       "</style>\n",
       "<table border=\"1\" class=\"dataframe\">\n",
       "  <thead>\n",
       "    <tr style=\"text-align: right;\">\n",
       "      <th></th>\n",
       "      <th>0</th>\n",
       "      <th>1</th>\n",
       "      <th>2</th>\n",
       "      <th>3</th>\n",
       "    </tr>\n",
       "  </thead>\n",
       "  <tbody>\n",
       "    <tr>\n",
       "      <th>0</th>\n",
       "      <td>홍 길동</td>\n",
       "      <td>이 나영</td>\n",
       "      <td>마 징가</td>\n",
       "      <td>베 토벤</td>\n",
       "    </tr>\n",
       "    <tr>\n",
       "      <th>1</th>\n",
       "      <td>10</td>\n",
       "      <td>21</td>\n",
       "      <td>73</td>\n",
       "      <td>89</td>\n",
       "    </tr>\n",
       "    <tr>\n",
       "      <th>2</th>\n",
       "      <td>2000/01/23</td>\n",
       "      <td>2020/11/08</td>\n",
       "      <td>1999/5/4</td>\n",
       "      <td>1987/12/24</td>\n",
       "    </tr>\n",
       "  </tbody>\n",
       "</table>\n",
       "</div>"
      ],
      "text/plain": [
       "            0           1         2           3\n",
       "0        홍 길동        이 나영      마 징가        베 토벤\n",
       "1          10          21        73          89\n",
       "2  2000/01/23  2020/11/08  1999/5/4  1987/12/24"
      ]
     },
     "execution_count": 335,
     "metadata": {},
     "output_type": "execute_result"
    }
   ],
   "source": [
    "# List ==> DataFrame\n",
    "df1 = pd.DataFrame(datas2)\n",
    "df1\n",
    "# 리스트 1개가 1개의 행이 됨"
   ]
  },
  {
   "cell_type": "markdown",
   "id": "76430b4e-4fe4-45d8-a31e-ea76dd3476ae",
   "metadata": {},
   "source": [
    "(4) 데이터 정보 확인"
   ]
  },
  {
   "cell_type": "code",
   "execution_count": 336,
   "id": "4fe2cee2-093c-424c-af62-7d82390dfaf2",
   "metadata": {},
   "outputs": [
    {
     "name": "stdout",
     "output_type": "stream",
     "text": [
      "<class 'pandas.core.frame.DataFrame'>\n",
      "RangeIndex: 3 entries, 0 to 2\n",
      "Data columns (total 4 columns):\n",
      " #   Column  Non-Null Count  Dtype \n",
      "---  ------  --------------  ----- \n",
      " 0   0       3 non-null      object\n",
      " 1   1       3 non-null      object\n",
      " 2   2       3 non-null      object\n",
      " 3   3       3 non-null      object\n",
      "dtypes: object(4)\n",
      "memory usage: 224.0+ bytes\n"
     ]
    }
   ],
   "source": [
    "# 데이터의 전체 기본 정보 => info()\n",
    "df1.info()"
   ]
  },
  {
   "cell_type": "markdown",
   "id": "8142c610-8787-4609-a7c6-68cf12563a33",
   "metadata": {},
   "source": [
    "(5) 데이터 전처리"
   ]
  },
  {
   "cell_type": "markdown",
   "id": "b1acb418-55a6-430e-9716-c06ad00f853d",
   "metadata": {},
   "source": [
    "- (5-1) 행 <=> 열 치환 "
   ]
  },
  {
   "cell_type": "code",
   "execution_count": 337,
   "id": "a777dd53-5701-4e99-8919-65e819b30b73",
   "metadata": {},
   "outputs": [
    {
     "data": {
      "text/html": [
       "<div>\n",
       "<style scoped>\n",
       "    .dataframe tbody tr th:only-of-type {\n",
       "        vertical-align: middle;\n",
       "    }\n",
       "\n",
       "    .dataframe tbody tr th {\n",
       "        vertical-align: top;\n",
       "    }\n",
       "\n",
       "    .dataframe thead th {\n",
       "        text-align: right;\n",
       "    }\n",
       "</style>\n",
       "<table border=\"1\" class=\"dataframe\">\n",
       "  <thead>\n",
       "    <tr style=\"text-align: right;\">\n",
       "      <th></th>\n",
       "      <th>0</th>\n",
       "      <th>1</th>\n",
       "      <th>2</th>\n",
       "    </tr>\n",
       "  </thead>\n",
       "  <tbody>\n",
       "    <tr>\n",
       "      <th>0</th>\n",
       "      <td>홍 길동</td>\n",
       "      <td>10</td>\n",
       "      <td>2000/01/23</td>\n",
       "    </tr>\n",
       "    <tr>\n",
       "      <th>1</th>\n",
       "      <td>이 나영</td>\n",
       "      <td>21</td>\n",
       "      <td>2020/11/08</td>\n",
       "    </tr>\n",
       "    <tr>\n",
       "      <th>2</th>\n",
       "      <td>마 징가</td>\n",
       "      <td>73</td>\n",
       "      <td>1999/5/4</td>\n",
       "    </tr>\n",
       "    <tr>\n",
       "      <th>3</th>\n",
       "      <td>베 토벤</td>\n",
       "      <td>89</td>\n",
       "      <td>1987/12/24</td>\n",
       "    </tr>\n",
       "  </tbody>\n",
       "</table>\n",
       "</div>"
      ],
      "text/plain": [
       "      0   1           2\n",
       "0  홍 길동  10  2000/01/23\n",
       "1  이 나영  21  2020/11/08\n",
       "2  마 징가  73    1999/5/4\n",
       "3  베 토벤  89  1987/12/24"
      ]
     },
     "execution_count": 337,
     "metadata": {},
     "output_type": "execute_result"
    }
   ],
   "source": [
    "df1.T"
   ]
  },
  {
   "cell_type": "code",
   "execution_count": 338,
   "id": "3006fe66-6e76-4ac6-808e-3ac33ea047b2",
   "metadata": {},
   "outputs": [
    {
     "name": "stdout",
     "output_type": "stream",
     "text": [
      "<class 'pandas.core.frame.DataFrame'>\n",
      "RangeIndex: 4 entries, 0 to 3\n",
      "Data columns (total 3 columns):\n",
      " #   Column  Non-Null Count  Dtype \n",
      "---  ------  --------------  ----- \n",
      " 0   0       4 non-null      object\n",
      " 1   1       4 non-null      object\n",
      " 2   2       4 non-null      object\n",
      "dtypes: object(3)\n",
      "memory usage: 224.0+ bytes\n"
     ]
    }
   ],
   "source": [
    "df1 = df1.transpose()\n",
    "df1.info()"
   ]
  },
  {
   "cell_type": "markdown",
   "id": "021e709d-4936-4731-8e9d-6b26facd2c2a",
   "metadata": {},
   "source": [
    "- (5-2) 실제 데이터와 타입 확인 후 형변환"
   ]
  },
  {
   "cell_type": "code",
   "execution_count": 339,
   "id": "ce84eccf-f9c7-43c9-b08a-5613ce33225b",
   "metadata": {},
   "outputs": [
    {
     "data": {
      "text/html": [
       "<div>\n",
       "<style scoped>\n",
       "    .dataframe tbody tr th:only-of-type {\n",
       "        vertical-align: middle;\n",
       "    }\n",
       "\n",
       "    .dataframe tbody tr th {\n",
       "        vertical-align: top;\n",
       "    }\n",
       "\n",
       "    .dataframe thead th {\n",
       "        text-align: right;\n",
       "    }\n",
       "</style>\n",
       "<table border=\"1\" class=\"dataframe\">\n",
       "  <thead>\n",
       "    <tr style=\"text-align: right;\">\n",
       "      <th></th>\n",
       "      <th>0</th>\n",
       "      <th>1</th>\n",
       "      <th>2</th>\n",
       "    </tr>\n",
       "  </thead>\n",
       "  <tbody>\n",
       "    <tr>\n",
       "      <th>0</th>\n",
       "      <td>홍 길동</td>\n",
       "      <td>10</td>\n",
       "      <td>2000/01/23</td>\n",
       "    </tr>\n",
       "    <tr>\n",
       "      <th>1</th>\n",
       "      <td>이 나영</td>\n",
       "      <td>21</td>\n",
       "      <td>2020/11/08</td>\n",
       "    </tr>\n",
       "    <tr>\n",
       "      <th>2</th>\n",
       "      <td>마 징가</td>\n",
       "      <td>73</td>\n",
       "      <td>1999/5/4</td>\n",
       "    </tr>\n",
       "    <tr>\n",
       "      <th>3</th>\n",
       "      <td>베 토벤</td>\n",
       "      <td>89</td>\n",
       "      <td>1987/12/24</td>\n",
       "    </tr>\n",
       "  </tbody>\n",
       "</table>\n",
       "</div>"
      ],
      "text/plain": [
       "      0   1           2\n",
       "0  홍 길동  10  2000/01/23\n",
       "1  이 나영  21  2020/11/08\n",
       "2  마 징가  73    1999/5/4\n",
       "3  베 토벤  89  1987/12/24"
      ]
     },
     "execution_count": 339,
     "metadata": {},
     "output_type": "execute_result"
    }
   ],
   "source": [
    "df1.head()"
   ]
  },
  {
   "cell_type": "code",
   "execution_count": 340,
   "id": "f9c650ca-e272-4b48-ac81-7db83d818a7b",
   "metadata": {},
   "outputs": [],
   "source": [
    "# 1번 컬럼 : object => 정수\n",
    "df1[1] = df1[1].astype('uint8')\n",
    "\n",
    "# 부호가 없음 => unsigned\n",
    "# uint8 => 부호가 없음 + int + 1바이트"
   ]
  },
  {
   "cell_type": "code",
   "execution_count": 341,
   "id": "81fd19c6-d761-4916-aa9c-3a72b5003fbc",
   "metadata": {},
   "outputs": [
    {
     "data": {
      "text/plain": [
       "0    object\n",
       "1     uint8\n",
       "2    object\n",
       "dtype: object"
      ]
     },
     "execution_count": 341,
     "metadata": {},
     "output_type": "execute_result"
    }
   ],
   "source": [
    "df1.dtypes          #타입만 확인하려면 ㅇㅇ"
   ]
  },
  {
   "cell_type": "code",
   "execution_count": 342,
   "id": "9a8185f9-b4ab-4622-b7c2-363bf19918ab",
   "metadata": {},
   "outputs": [],
   "source": [
    "# 2번 컬럼 : object => datetime64[ns]\n",
    "df1[2] = df1[2].astype('datetime64[ns]')"
   ]
  },
  {
   "cell_type": "code",
   "execution_count": 343,
   "id": "2ffd050f-ffdf-4f40-b7fb-7cb5f367abbc",
   "metadata": {},
   "outputs": [
    {
     "data": {
      "text/plain": [
       "0            object\n",
       "1             uint8\n",
       "2    datetime64[ns]\n",
       "dtype: object"
      ]
     },
     "execution_count": 343,
     "metadata": {},
     "output_type": "execute_result"
    }
   ],
   "source": [
    "df1.dtypes"
   ]
  },
  {
   "cell_type": "markdown",
   "id": "094773d0-be1f-4099-b33b-649e588310e2",
   "metadata": {},
   "source": [
    "- (5-3) 0번 컬럼의 이름을 성과 이름으로 분리"
   ]
  },
  {
   "cell_type": "code",
   "execution_count": 344,
   "id": "a20ed308-03f2-47b2-a016-7bbc5a1f8c54",
   "metadata": {},
   "outputs": [
    {
     "data": {
      "text/plain": [
       "(0    홍 길동\n",
       " 1    이 나영\n",
       " 2    마 징가\n",
       " 3    베 토벤\n",
       " Name: 0, dtype: object,\n",
       " '이 나영')"
      ]
     },
     "execution_count": 344,
     "metadata": {},
     "output_type": "execute_result"
    }
   ],
   "source": [
    "# 0번 컬럼만 추출\n",
    "nameSR = df1[0]               #시리즈로 뽑힌 하나의 열\n",
    "nameSR, nameSR[1]             #그 시리즈에서 1번 인덱스의 값을 추출"
   ]
  },
  {
   "cell_type": "code",
   "execution_count": 345,
   "id": "8518d6a1-6e76-432a-bd8b-81e3dfb42ac5",
   "metadata": {},
   "outputs": [
    {
     "data": {
      "text/plain": [
       "['이', '나영']"
      ]
     },
     "execution_count": 345,
     "metadata": {},
     "output_type": "execute_result"
    }
   ],
   "source": [
    "# '이 나영' 데이터를 추출 => 성과 이름으로 분리\n",
    "nameSR[1].split()          #split을 기본은 공백으로 나누는 것"
   ]
  },
  {
   "cell_type": "code",
   "execution_count": 346,
   "id": "c7a4f222-966a-4450-8a75-83f58ac4c1ad",
   "metadata": {},
   "outputs": [],
   "source": [
    "#for idx in range(nameSR.shape[0]):\n",
    "    #nameSR[idx] = nameSR[idx].split()\n",
    "\n",
    "#nameSR\n",
    "\n",
    "#여기서 또 성과 이름을 따로 뽑으려면 반복문 써야함. 그걸 또 열을 새로 만들어서 넣어주어야 함\n",
    "#그대신에 아래와 같이 한다."
   ]
  },
  {
   "cell_type": "code",
   "execution_count": 347,
   "id": "6838fac0-3e1d-4ccb-a695-85a8dc1d909f",
   "metadata": {},
   "outputs": [],
   "source": [
    "namesDF = nameSR.str.split(expand = True)"
   ]
  },
  {
   "cell_type": "code",
   "execution_count": 348,
   "id": "331f88f2-72a7-4a7e-a92e-49bd246ded5e",
   "metadata": {},
   "outputs": [
    {
     "data": {
      "text/plain": [
       "(      0   1          2\n",
       " 0  홍 길동  10 2000-01-23\n",
       " 1  이 나영  21 2020-11-08\n",
       " 2  마 징가  73 1999-05-04\n",
       " 3  베 토벤  89 1987-12-24,\n",
       "    0   1\n",
       " 0  홍  길동\n",
       " 1  이  나영\n",
       " 2  마  징가\n",
       " 3  베  토벤)"
      ]
     },
     "execution_count": 348,
     "metadata": {},
     "output_type": "execute_result"
    }
   ],
   "source": [
    "df1, namesDF"
   ]
  },
  {
   "cell_type": "markdown",
   "id": "2b98975e-a79a-4aee-9fe2-5a324d5ae547",
   "metadata": {},
   "source": [
    "- (5-4) 두개의 DataFrame을 컬럼 방향으로 연결"
   ]
  },
  {
   "cell_type": "code",
   "execution_count": 349,
   "id": "3dfe1ed2-c31c-40d5-bbac-089fc5c46de5",
   "metadata": {},
   "outputs": [],
   "source": [
    "# test1 = pd.concat([df1, namesDF])\n",
    "# test1.reset_index(drop=True)\n",
    "# 2번열이 날짜엿음 그래서 NaT (Not a Timestamp)\n",
    "#reset_index에서 drop하면 새롭게 지정된 인덱스 번호가 사라짐\n",
    "\n",
    "#pd.concat([df1, namesDF], axis = 'columns', ignore_index = True)\n",
    "#기준을 열로 잡아서 열로 넣어진 상태로 추출됨\n",
    "#열 인덱스는 무시하고 새롭게 번호가 붙여짐"
   ]
  },
  {
   "cell_type": "markdown",
   "id": "2e58545b-ca26-466e-8733-5a9627564aab",
   "metadata": {},
   "source": [
    "- {5-5) 2번 컬럼에서 년, 월, 일을 분리"
   ]
  },
  {
   "cell_type": "code",
   "execution_count": 350,
   "id": "1fdd495f-739d-4c33-95c9-f68fac704fb6",
   "metadata": {},
   "outputs": [
    {
     "data": {
      "text/plain": [
       "0   2000-01-23\n",
       "1   2020-11-08\n",
       "2   1999-05-04\n",
       "3   1987-12-24\n",
       "Name: 2, dtype: datetime64[ns]"
      ]
     },
     "execution_count": 350,
     "metadata": {},
     "output_type": "execute_result"
    }
   ],
   "source": [
    "df1[2]"
   ]
  },
  {
   "cell_type": "code",
   "execution_count": 351,
   "id": "5428901d-133e-4884-87ad-c918c12eebdd",
   "metadata": {},
   "outputs": [],
   "source": [
    "yearSR = df1[2].dt.year"
   ]
  },
  {
   "cell_type": "code",
   "execution_count": 352,
   "id": "b024d6cf-e89a-4d35-91c9-667e0dbf5ff8",
   "metadata": {},
   "outputs": [],
   "source": [
    "monthSR = df1[2].dt.month"
   ]
  },
  {
   "cell_type": "code",
   "execution_count": 353,
   "id": "9c6a9a60-0abb-4b68-bc09-8cc96377c16c",
   "metadata": {},
   "outputs": [],
   "source": [
    "daySR = df1[2].dt.day"
   ]
  },
  {
   "cell_type": "code",
   "execution_count": 354,
   "id": "b3aa4df6-5948-4101-9983-42535aaf6d84",
   "metadata": {},
   "outputs": [
    {
     "data": {
      "text/html": [
       "<div>\n",
       "<style scoped>\n",
       "    .dataframe tbody tr th:only-of-type {\n",
       "        vertical-align: middle;\n",
       "    }\n",
       "\n",
       "    .dataframe tbody tr th {\n",
       "        vertical-align: top;\n",
       "    }\n",
       "\n",
       "    .dataframe thead th {\n",
       "        text-align: right;\n",
       "    }\n",
       "</style>\n",
       "<table border=\"1\" class=\"dataframe\">\n",
       "  <thead>\n",
       "    <tr style=\"text-align: right;\">\n",
       "      <th></th>\n",
       "      <th>0</th>\n",
       "      <th>1</th>\n",
       "      <th>2</th>\n",
       "      <th>3</th>\n",
       "      <th>4</th>\n",
       "      <th>5</th>\n",
       "    </tr>\n",
       "  </thead>\n",
       "  <tbody>\n",
       "    <tr>\n",
       "      <th>0</th>\n",
       "      <td>홍 길동</td>\n",
       "      <td>10</td>\n",
       "      <td>2000-01-23</td>\n",
       "      <td>2000</td>\n",
       "      <td>1</td>\n",
       "      <td>23</td>\n",
       "    </tr>\n",
       "    <tr>\n",
       "      <th>1</th>\n",
       "      <td>이 나영</td>\n",
       "      <td>21</td>\n",
       "      <td>2020-11-08</td>\n",
       "      <td>2020</td>\n",
       "      <td>11</td>\n",
       "      <td>8</td>\n",
       "    </tr>\n",
       "    <tr>\n",
       "      <th>2</th>\n",
       "      <td>마 징가</td>\n",
       "      <td>73</td>\n",
       "      <td>1999-05-04</td>\n",
       "      <td>1999</td>\n",
       "      <td>5</td>\n",
       "      <td>4</td>\n",
       "    </tr>\n",
       "    <tr>\n",
       "      <th>3</th>\n",
       "      <td>베 토벤</td>\n",
       "      <td>89</td>\n",
       "      <td>1987-12-24</td>\n",
       "      <td>1987</td>\n",
       "      <td>12</td>\n",
       "      <td>24</td>\n",
       "    </tr>\n",
       "  </tbody>\n",
       "</table>\n",
       "</div>"
      ],
      "text/plain": [
       "      0   1          2     3   4   5\n",
       "0  홍 길동  10 2000-01-23  2000   1  23\n",
       "1  이 나영  21 2020-11-08  2020  11   8\n",
       "2  마 징가  73 1999-05-04  1999   5   4\n",
       "3  베 토벤  89 1987-12-24  1987  12  24"
      ]
     },
     "execution_count": 354,
     "metadata": {},
     "output_type": "execute_result"
    }
   ],
   "source": [
    "pd.concat([df1, yearSR, monthSR, daySR], axis = 1, ignore_index = True)"
   ]
  },
  {
   "cell_type": "markdown",
   "id": "027de693-cebd-4884-a967-2f964d794095",
   "metadata": {},
   "source": [
    "- (5-6) 현재 DataFrame을 파일로 저장하기 => pandas.to_XXX(\"파일경로 + 파일명\")"
   ]
  },
  {
   "cell_type": "code",
   "execution_count": 355,
   "id": "385d40e0-4c64-4f5d-a459-d6969f912626",
   "metadata": {},
   "outputs": [],
   "source": [
    "# CSV ==> 데이터와 데이터의 구분자\n",
    "filename = \"./backup.csv\"         # \"backup.csv\""
   ]
  },
  {
   "cell_type": "code",
   "execution_count": 356,
   "id": "9c83aa43-19ea-480b-af9b-b177fe1a5d2e",
   "metadata": {},
   "outputs": [],
   "source": [
    "df1.to_csv(filename, sep = ' ', header = False, index = False)"
   ]
  },
  {
   "cell_type": "code",
   "execution_count": 357,
   "id": "0456f964-3ad9-4402-b306-148050a16685",
   "metadata": {},
   "outputs": [
    {
     "data": {
      "text/html": [
       "<div>\n",
       "<style scoped>\n",
       "    .dataframe tbody tr th:only-of-type {\n",
       "        vertical-align: middle;\n",
       "    }\n",
       "\n",
       "    .dataframe tbody tr th {\n",
       "        vertical-align: top;\n",
       "    }\n",
       "\n",
       "    .dataframe thead th {\n",
       "        text-align: right;\n",
       "    }\n",
       "</style>\n",
       "<table border=\"1\" class=\"dataframe\">\n",
       "  <thead>\n",
       "    <tr style=\"text-align: right;\">\n",
       "      <th></th>\n",
       "      <th>0</th>\n",
       "      <th>1</th>\n",
       "      <th>2</th>\n",
       "    </tr>\n",
       "  </thead>\n",
       "  <tbody>\n",
       "    <tr>\n",
       "      <th>0</th>\n",
       "      <td>홍 길동</td>\n",
       "      <td>10</td>\n",
       "      <td>2000-01-23</td>\n",
       "    </tr>\n",
       "    <tr>\n",
       "      <th>1</th>\n",
       "      <td>이 나영</td>\n",
       "      <td>21</td>\n",
       "      <td>2020-11-08</td>\n",
       "    </tr>\n",
       "    <tr>\n",
       "      <th>2</th>\n",
       "      <td>마 징가</td>\n",
       "      <td>73</td>\n",
       "      <td>1999-05-04</td>\n",
       "    </tr>\n",
       "    <tr>\n",
       "      <th>3</th>\n",
       "      <td>베 토벤</td>\n",
       "      <td>89</td>\n",
       "      <td>1987-12-24</td>\n",
       "    </tr>\n",
       "  </tbody>\n",
       "</table>\n",
       "</div>"
      ],
      "text/plain": [
       "      0   1           2\n",
       "0  홍 길동  10  2000-01-23\n",
       "1  이 나영  21  2020-11-08\n",
       "2  마 징가  73  1999-05-04\n",
       "3  베 토벤  89  1987-12-24"
      ]
     },
     "execution_count": 357,
     "metadata": {},
     "output_type": "execute_result"
    }
   ],
   "source": [
    "pd.read_csv(filename, header = None,  sep = ' ')"
   ]
  },
  {
   "cell_type": "code",
   "execution_count": null,
   "id": "97f44b4d-b2e3-4cd9-8b8f-4c2722bc2e3a",
   "metadata": {},
   "outputs": [],
   "source": []
  }
 ],
 "metadata": {
  "kernelspec": {
   "display_name": "Python 3 (ipykernel)",
   "language": "python",
   "name": "python3"
  },
  "language_info": {
   "codemirror_mode": {
    "name": "ipython",
    "version": 3
   },
   "file_extension": ".py",
   "mimetype": "text/x-python",
   "name": "python",
   "nbconvert_exporter": "python",
   "pygments_lexer": "ipython3",
   "version": "3.8.18"
  }
 },
 "nbformat": 4,
 "nbformat_minor": 5
}
