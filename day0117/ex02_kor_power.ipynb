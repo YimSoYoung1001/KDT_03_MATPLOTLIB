{
 "cells": [
  {
   "cell_type": "markdown",
   "id": "98d760c4-e1fc-4b11-af39-e895e8ed6f12",
   "metadata": {},
   "source": [
    "### [ 데이터 기반 시각화 ]\n",
    "- 데이터 : 남북한발전전력.xlsx\n",
    "- 남북한 수력발전전력에 대한 시각화"
   ]
  },
  {
   "cell_type": "markdown",
   "id": "801ef98e-b997-45d9-b9ac-1fcbe9be3b89",
   "metadata": {},
   "source": [
    "(1) 모듈 로딩"
   ]
  },
  {
   "cell_type": "code",
   "execution_count": 64,
   "id": "8d037ed0-23c3-4f1b-8bfe-8d15701e7359",
   "metadata": {},
   "outputs": [],
   "source": [
    "import pandas as pd\n",
    "import matplotlib.pyplot as plt"
   ]
  },
  {
   "cell_type": "markdown",
   "id": "9a92b382-428f-4281-ab29-37a40015d930",
   "metadata": {},
   "source": [
    "(2) 데이터 준비"
   ]
  },
  {
   "cell_type": "code",
   "execution_count": 65,
   "id": "d82fb4b5-0fa4-4e28-acdd-02e413324c05",
   "metadata": {},
   "outputs": [],
   "source": [
    "file = '../DATA/남북한발전전력량.xlsx'"
   ]
  },
  {
   "cell_type": "markdown",
   "id": "4b799006-5c66-475a-bf68-d0a8056d46a2",
   "metadata": {},
   "source": [
    "- 실제 데이터 파일 확인 결과\n",
    "    * 첫 번째 행은 컬럼명 데이터\n",
    "    * 첫 번째와 두 번째 컬럼을 행 인덱스 사용으로 적합\n",
    "    * 입력값이 없는 셀에 '-' 채워져 있음 => isnull()/isna()로는 결측치 체크 X => 삭제하지 않고 대체로 처리 (대체값 0)"
   ]
  },
  {
   "cell_type": "markdown",
   "id": "ba4e70aa-93e5-4230-bd74-78643733855e",
   "metadata": {},
   "source": [
    "(3) 데이터 저장 : Excel => DataFrame"
   ]
  },
  {
   "cell_type": "code",
   "execution_count": 66,
   "id": "efd90d6d-88cb-484f-9d3b-17e52ea4cb78",
   "metadata": {},
   "outputs": [],
   "source": [
    "korpowerDF = pd.read_excel(file, index_col = [0,1])"
   ]
  },
  {
   "cell_type": "markdown",
   "id": "c7128c93-ec82-41db-8190-679b5607993f",
   "metadata": {},
   "source": [
    "(4) 데이터 확인"
   ]
  },
  {
   "cell_type": "markdown",
   "id": "88e04c0b-026e-4ebe-be76-215be8dfd4da",
   "metadata": {},
   "source": [
    "- (4-1) 데이터 타입과 실제 데이터 체크\n",
    "    * '-' 데이터를 '0'으로 변경\n",
    "    * object 타입을 uint16"
   ]
  },
  {
   "cell_type": "code",
   "execution_count": 67,
   "id": "2c307b83-e0fc-44b1-aee4-03cdc36d5700",
   "metadata": {
    "scrolled": true
   },
   "outputs": [
    {
     "name": "stdout",
     "output_type": "stream",
     "text": [
      "<class 'pandas.core.frame.DataFrame'>\n",
      "MultiIndex: 9 entries, ('남한', '합계') to ('북한', '원자력')\n",
      "Data columns (total 27 columns):\n",
      " #   Column  Non-Null Count  Dtype \n",
      "---  ------  --------------  ----- \n",
      " 0   1990    9 non-null      object\n",
      " 1   1991    9 non-null      object\n",
      " 2   1992    9 non-null      object\n",
      " 3   1993    9 non-null      object\n",
      " 4   1994    9 non-null      object\n",
      " 5   1995    9 non-null      object\n",
      " 6   1996    9 non-null      object\n",
      " 7   1997    9 non-null      object\n",
      " 8   1998    9 non-null      object\n",
      " 9   1999    9 non-null      object\n",
      " 10  2000    9 non-null      object\n",
      " 11  2001    9 non-null      object\n",
      " 12  2002    9 non-null      object\n",
      " 13  2003    9 non-null      object\n",
      " 14  2004    9 non-null      object\n",
      " 15  2005    9 non-null      object\n",
      " 16  2006    9 non-null      object\n",
      " 17  2007    9 non-null      object\n",
      " 18  2008    9 non-null      object\n",
      " 19  2009    9 non-null      object\n",
      " 20  2010    9 non-null      object\n",
      " 21  2011    9 non-null      object\n",
      " 22  2012    9 non-null      object\n",
      " 23  2013    9 non-null      object\n",
      " 24  2014    9 non-null      object\n",
      " 25  2015    9 non-null      object\n",
      " 26  2016    9 non-null      object\n",
      "dtypes: object(27)\n",
      "memory usage: 2.4+ KB\n"
     ]
    }
   ],
   "source": [
    "korpowerDF.info()"
   ]
  },
  {
   "cell_type": "markdown",
   "id": "e9a014ea-362d-4515-bbc3-3a6d355afe96",
   "metadata": {},
   "source": [
    "- (4-2) 인덱스와 컬럼 속성 확인"
   ]
  },
  {
   "cell_type": "code",
   "execution_count": 68,
   "id": "99e487a3-0a3f-436f-a08d-f2190cef8d31",
   "metadata": {},
   "outputs": [
    {
     "name": "stdout",
     "output_type": "stream",
     "text": [
      "MultiIndex([('남한',  '합계'),\n",
      "            ('남한',  '수력'),\n",
      "            ('남한',  '화력'),\n",
      "            ('남한', '원자력'),\n",
      "            ('남한', '신재생'),\n",
      "            ('북한',  '합계'),\n",
      "            ('북한',  '수력'),\n",
      "            ('북한',  '화력'),\n",
      "            ('북한', '원자력')],\n",
      "           names=['전력량 (억㎾h)', '발전 전력별'])\n",
      "\n",
      "Index(['1990', '1991', '1992', '1993', '1994', '1995', '1996', '1997', '1998',\n",
      "       '1999', '2000', '2001', '2002', '2003', '2004', '2005', '2006', '2007',\n",
      "       '2008', '2009', '2010', '2011', '2012', '2013', '2014', '2015', '2016'],\n",
      "      dtype='object')\n"
     ]
    }
   ],
   "source": [
    "print(korpowerDF.index, korpowerDF.columns, sep = '\\n\\n')"
   ]
  },
  {
   "cell_type": "markdown",
   "id": "2ff57947-4136-4ef9-94b1-252a4132ae8b",
   "metadata": {},
   "source": [
    "(5) 데이터 전처리"
   ]
  },
  {
   "cell_type": "markdown",
   "id": "9a61f580-974a-42bc-972b-6f7639373fe2",
   "metadata": {},
   "source": [
    "- (5-1) 데이터 자료형 변환"
   ]
  },
  {
   "cell_type": "code",
   "execution_count": 69,
   "id": "2d866825-8823-4395-9f7d-7c5fa512f3fc",
   "metadata": {},
   "outputs": [],
   "source": [
    "# '-' => '0'\n",
    "korpowerDF2 = korpowerDF.replace('-','0')"
   ]
  },
  {
   "cell_type": "code",
   "execution_count": 70,
   "id": "bb65bffe-9717-4f01-92ea-0d8f29af2aea",
   "metadata": {
    "scrolled": true
   },
   "outputs": [
    {
     "name": "stdout",
     "output_type": "stream",
     "text": [
      "<class 'pandas.core.frame.DataFrame'>\n",
      "MultiIndex: 9 entries, ('남한', '합계') to ('북한', '원자력')\n",
      "Data columns (total 27 columns):\n",
      " #   Column  Non-Null Count  Dtype\n",
      "---  ------  --------------  -----\n",
      " 0   1990    9 non-null      int16\n",
      " 1   1991    9 non-null      int16\n",
      " 2   1992    9 non-null      int16\n",
      " 3   1993    9 non-null      int16\n",
      " 4   1994    9 non-null      int16\n",
      " 5   1995    9 non-null      int16\n",
      " 6   1996    9 non-null      int16\n",
      " 7   1997    9 non-null      int16\n",
      " 8   1998    9 non-null      int16\n",
      " 9   1999    9 non-null      int16\n",
      " 10  2000    9 non-null      int16\n",
      " 11  2001    9 non-null      int16\n",
      " 12  2002    9 non-null      int16\n",
      " 13  2003    9 non-null      int16\n",
      " 14  2004    9 non-null      int16\n",
      " 15  2005    9 non-null      int16\n",
      " 16  2006    9 non-null      int16\n",
      " 17  2007    9 non-null      int16\n",
      " 18  2008    9 non-null      int16\n",
      " 19  2009    9 non-null      int16\n",
      " 20  2010    9 non-null      int16\n",
      " 21  2011    9 non-null      int16\n",
      " 22  2012    9 non-null      int16\n",
      " 23  2013    9 non-null      int16\n",
      " 24  2014    9 non-null      int16\n",
      " 25  2015    9 non-null      int16\n",
      " 26  2016    9 non-null      int16\n",
      "dtypes: int16(27)\n",
      "memory usage: 1018.0+ bytes\n"
     ]
    }
   ],
   "source": [
    "# object => int16\n",
    "korpowerDF2 = korpowerDF2.astype('int16')\n",
    "korpowerDF2.info()"
   ]
  },
  {
   "cell_type": "markdown",
   "id": "0591fda8-691f-4267-8948-828600cbcbdc",
   "metadata": {},
   "source": [
    "(6) 데이터 분석 작업"
   ]
  },
  {
   "cell_type": "markdown",
   "id": "0d1492e4-0c30-44b3-9251-10266179317f",
   "metadata": {},
   "source": [
    "- 남북한의 수력발전량 비교"
   ]
  },
  {
   "cell_type": "code",
   "execution_count": 71,
   "id": "f2fe8d1f-6d87-40f1-a285-27894e82d60b",
   "metadata": {},
   "outputs": [
    {
     "data": {
      "text/plain": [
       "(2, 27)"
      ]
     },
     "execution_count": 71,
     "metadata": {},
     "output_type": "execute_result"
    }
   ],
   "source": [
    "# 수력발전량 행 데이터 추출\n",
    "waterDF = korpowerDF2.xs('수력', level = 1)\n",
    "waterDF.shape"
   ]
  },
  {
   "cell_type": "markdown",
   "id": "2db8dd70-1aa4-4835-8762-f4cbc9151692",
   "metadata": {},
   "source": [
    "waterDF"
   ]
  },
  {
   "cell_type": "code",
   "execution_count": 72,
   "id": "1fc0f149-f967-43bc-8438-441f102af295",
   "metadata": {},
   "outputs": [],
   "source": [
    "# list1 = []\n",
    "# list2 = []\n",
    "# for i in range(27):\n",
    "#     list1.append(waterDF.iloc[0][i])\n",
    "#     list2.append(waterDF.iloc[0][i])\n",
    "\n",
    "# year = range(1990,2017)\n",
    "# ret1 = plt.plot(year, list1)\n",
    "# ret2 = plt.plot(year, list2)\n"
   ]
  },
  {
   "cell_type": "code",
   "execution_count": 73,
   "id": "a0fca155-a017-4bb2-85a2-1b8e26644871",
   "metadata": {},
   "outputs": [],
   "source": [
    "#plt.plot(waterDF.loc['남한'], 'bo-', waterDF.loc['북한'], 'ro-')"
   ]
  },
  {
   "cell_type": "code",
   "execution_count": 74,
   "id": "c3aafa9c-3858-4edf-afb3-b5fb683424f3",
   "metadata": {},
   "outputs": [
    {
     "data": {
      "image/png": "[encoded data removed]",
      "text/plain": [
       "<Figure size 640x480 with 1 Axes>"
      ]
     },
     "metadata": {},
     "output_type": "display_data"
    }
   ],
   "source": [
    "plt.plot(waterDF.loc['남한'],'bo-', waterDF.loc['북한'], 'ro-')\n",
    "plt.show()"
   ]
  },
  {
   "cell_type": "code",
   "execution_count": null,
   "id": "d751b85f-15e3-4855-b067-42564988e66b",
   "metadata": {},
   "outputs": [],
   "source": []
  }
 ],
 "metadata": {
  "kernelspec": {
   "display_name": "Python 3 (ipykernel)",
   "language": "python",
   "name": "python3"
  },
  "language_info": {
   "codemirror_mode": {
    "name": "ipython",
    "version": 3
   },
   "file_extension": ".py",
   "mimetype": "text/x-python",
   "name": "python",
   "nbconvert_exporter": "python",
   "pygments_lexer": "ipython3",
   "version": "3.8.18"
  }
 },
 "nbformat": 4,
 "nbformat_minor": 5
}
